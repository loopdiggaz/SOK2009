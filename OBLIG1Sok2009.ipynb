{
 "cells": [
  {
   "cell_type": "markdown",
   "metadata": {},
   "source": [
    "### Oppgavesett SOK-2009"
   ]
  },
  {
   "cell_type": "code",
   "execution_count": 5,
   "metadata": {},
   "outputs": [],
   "source": [
    "import sympy as sp\n",
    "import numpy as np\n",
    "import matplotlib.pyplot as plt"
   ]
  },
  {
   "cell_type": "markdown",
   "metadata": {},
   "source": [
    "#### Oppgave 1\n",
    "\n",
    "En diskret variabel X kan ta verdiene $ x_i $ ∈ $\\{ x_0.....x_N \\}$. Forventningen til $ X, E[X] $, er summen av mulige utfall ganger sannsynligheten for utfallet: \n",
    "\n",
    "$ E[X] =  x_0p(x_0) + x_1p(x_2) + ...... + x_Np(x_n) $\n",
    "\n",
    "Bruk definisjon til å finne forventingen av en variabel T som er lik antall prikker på en seks-sidet terning t ∈ $ \\{1...6\\} $ der alle utfall har samme sannsynlighet p(X=x) = $\\dfrac{1}{6}$. Vi skriver dette, E[T]. Hva er sannsynligheten for å få den forventende veriden? Forklar svaret ditt? \n",
    "\n",
    "\n",
    "$ E(T) = 1 *  \\dfrac{1}{6} + 2 * \\dfrac{1}{6} + 3 *  \\dfrac{1}{6} + 4 * \\dfrac{1}{6} + 5 * \\dfrac{1}{6} + 6 * \\dfrac{1}{6} = 3,5 $  \n",
    "\n",
    "Forventningsverdien til terningen $ E[T] = 3,5 $\n",
    "\n",
    " $ p(t = 3,5) = 0 $ \n",
    "\n",
    " Ingen utfall på terningen har 3.5 prikker. Forventningen 3,5 er et teoretisk gjennomsnitt, det vil si at at dersom man gjentok forsøket i det uendelige vil forventet verdi (gjennomsnittet) nærme seg 3.5. Vi sier at terningen vil tendere mot 3.5.\n",
    "\n",
    " #### Oppgave 2 \n",
    "\n",
    " Finn forventingen til summen av to seksidede terninger $ 2T,E[2T] $. Skriv svaret på formen av formelen over dvs. $ E[2T] $. Hva er forskjellen mellom sannsynligheten $ p(2T = t) $ og $ p(T=t) $?\n",
    "\n",
    " $ E[2T] $ = $ 2 * \\dfrac{1}{36} + 3 * \\dfrac{2}{36} 4 * \\dfrac{3}{36} + 5 * \\dfrac{4}{36} .... + 12 *\\dfrac{1}{36} = 7 $\n",
    "\n",
    " Forventningsverdien til 2 terninger $ E[2T] = 7 $\n",
    "\n",
    " Fordelingen er den viktigste forskjellen mellom de to sannsynlighetene. T er en diskret uniform fordeling. En uniform sannsynlighet betyr at alle utfallene er like sannsynlige. 2T er også en diskret sannsynlighetsfordeling, men den er ikke uniform. Det betyr at ikke alle utfallene er like sannsynlige. For 2T er sannsynligheten for 7 prikker større enn sannsynligheten for 2 prikker, da seks utfall gir 7 prikker og 1 utfall gir 2 prikker. \n",
    " \n",
    " For figuren under har jeg laget en funksjon for 2 terninger og kastet den 100 000 ganger, vi observerer en fordeling rundt 7. "
   ]
  },
  {
   "cell_type": "code",
   "execution_count": 6,
   "metadata": {},
   "outputs": [
    {
     "data": {
      "image/png": "[encoded data removed]",
      "text/plain": [
       "<Figure size 640x480 with 1 Axes>"
      ]
     },
     "metadata": {},
     "output_type": "display_data"
    }
   ],
   "source": [
    "# Lager en funksjon for terning: \n",
    "\n",
    "def dice(n):\n",
    "    rolls = []\n",
    "    for i in range(n):\n",
    "        two_dice = ( np.random.randint(1, 7) + np.random.randint(1, 7) )\n",
    "        rolls.append(two_dice)\n",
    "    return rolls\n",
    "\n",
    "# Sannsynlighetsfordeling for to terninger\n",
    "\n",
    "kast = dice(100000) # Antall kast  \n",
    "# print(data)\n",
    "bins = np.arange(14) - 0.5 \n",
    "plt.hist(kast, bins, rwidth= 0.5)\n",
    "plt.title(\"2 Terninger histogram\")\n",
    "plt.xlabel(\"Sum av 2 terninger\")\n",
    "plt.ylabel(\"Frekvens\")\n",
    "plt.xticks(range(1,14))\n",
    "# Set axes limit\n",
    "plt.xlim(1,13);"
   ]
  },
  {
   "cell_type": "markdown",
   "metadata": {},
   "source": [
    "#### Oppgave 3 \n",
    "\n",
    " Hva er utfallsrommet for 2T for antall prikker på to separate ternnger T,T? \n",
    "\n",
    " Utfallsrommet for $ 2T $ = $\\{2,3,4,5,6,7,8,9,10,11,12\\} $\n",
    "\n",
    " Utfallsrommet for t,t = $\\{(1,1),(1,2),(1,3),(1,4),(1,5),(1,6)....,(6,6)\\} $\n",
    "\n",
    "\n",
    " #### Oppgave 4 \n",
    "\n",
    " En sannsynlighetsfordeling for en diskret variabel som T gir sannsynligheten for å få de mulige verdiene i utfallsrommet: \n",
    "\n",
    " $ f(x) = P(X = x) $\n",
    "\n",
    " Den kumulative sannsynlighetsfordelingen gir sannsynligheten for at en variabel skal være mindre eller lik en gitt verdi x: \n",
    "\n",
    " $ F(x) = P(X ≤ x) $ \n",
    "\n",
    "Hva er $ f(5) $ for en eller to terninger? Hva er $ f(3) $ for en eller to terninger? \n",
    "\n",
    "For en terning t: \n",
    "\n",
    "$ f(3) = P(x ≤ 3) = P(x = 1) + P(x = 2) + P(x = 3) = \\dfrac{1}{6} + \\dfrac{1}{6} + \\dfrac{1}{6}  = \\dfrac{3}{6} = \\dfrac{1}{2} $\n",
    "\n",
    "$ f(5) = P(x ≤ 5) = P(x = 1) + P(x = 2) .... + P(x = 5)= \\dfrac{1}{6} + \\dfrac{1}{6} + \\dfrac{1}{6} + \\dfrac{1}{6} + \\dfrac{1}{6} = \\dfrac{5}{6} $\n",
    "\n",
    "For 2 terninger 2T: \n",
    "\n",
    "$ f(3) = P(x ≤ 3) =  P(x = 2) + P(x = 3) = \\dfrac{1}{36} + \\dfrac{2}{36} = \\dfrac{3}{36} $\n",
    "\n",
    "$ f(3) = P(x ≤ 5) = P(x = 1) + P(x = 2) + P(x = 3) + P(x = 4) + P(x = 5) = \\dfrac{1}{36} + \\dfrac{2}{36} + \\dfrac{3}{36} + \\dfrac{4}{36}  = \\dfrac{1+2+3+4}{36} = \\dfrac{5}{18} $\n",
    "\n",
    "#### Oppgave 5\n",
    "\n",
    "Anta at en terning har N > 3 sider med $\\{1, 2, 3..t..,(N − 1), N \\} $ prikker på hver side. Hva er sannsynligheten for å få t prikker? Kan du skrive et uttrykk for forventet antall prikker? \n",
    "\n",
    "$ P(t) = \\dfrac{\\text{antall måter å få t på}}{\\text{totalt antall utfall}} $\n",
    "\n",
    "Kaller antall måter å få t på = $ \\dfrac{nt}{N} $\n",
    "\n",
    "$ P(t) = \\dfrac{nt}{N} $\n",
    "\n",
    "#### Oppgave 6 \n",
    "\n",
    "Kan du finne sannsynligheten for at antall prikker på 2 terninger ligger over 2 eller under 12, det vil si $ P(3 ≤ 2T ≤ 11) = F(11) − F(3) $\n",
    "\n",
    "$ P(x ≤ 11) = \\dfrac{1}{36} + \\dfrac{2}{36} + \\dfrac{3}{36} + \\dfrac{4}{36} + \\dfrac{5}{36} + \\dfrac{6}{36} + \\dfrac{5}{36} + \\dfrac{4}{36} + \\dfrac{3}{36} + \\dfrac{2}{36} = \\dfrac{35}{36} $\n",
    "\n",
    "$ P(x ≤ 3) = \\dfrac{1}{36} + \\dfrac{2}{36} = \\dfrac{3}{36} $\n",
    "\n",
    "$ F(11) - F(3) = \\dfrac{32}{36} $\n",
    " "
   ]
  }
 ],
 "metadata": {
  "kernelspec": {
   "display_name": "Python 3",
   "language": "python",
   "name": "python3"
  },
  "language_info": {
   "codemirror_mode": {
    "name": "ipython",
    "version": 3
   },
   "file_extension": ".py",
   "mimetype": "text/x-python",
   "name": "python",
   "nbconvert_exporter": "python",
   "pygments_lexer": "ipython3",
   "version": "3.11.5"
  },
  "orig_nbformat": 4
 },
 "nbformat": 4,
 "nbformat_minor": 2
}
