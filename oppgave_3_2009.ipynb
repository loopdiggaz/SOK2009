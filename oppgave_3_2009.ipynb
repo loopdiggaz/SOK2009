{
 "cells": [
  {
   "cell_type": "markdown",
   "metadata": {},
   "source": [
    "Definer T som antall prikker på en seksidet terning 2T og som antall prikker på to sekssidede ternigner. \n",
    "\n",
    "1. Et av utfallsrommene T og 2T har uniform sannsynlighet og det andre ikke uniform sannsynlihet. Forklar hva det betyr og hvorfor det er slik. Tegn opp grafen for f(T),f(2T) og den kumulative sannsynlighetsfordelingen F(2T), F(T)?"
   ]
  },
  {
   "cell_type": "markdown",
   "metadata": {},
   "source": [
    "For en terning T så har alle utfallene lik sannsynlighet $\\frac{1}{6}$. For to terninger 2T har ikke alle utfallene lik sannsynlighet. Det er feks seks utfall som gir syv prikker $\\frac{6}{36}$, men bare et utfall som gir to prikker $\\frac{1}{36}$. Derfor sier vi at T er en uniform sannsynlighet, mens T er en ikke uniform sannsynlighet."
   ]
  },
  {
   "cell_type": "code",
   "execution_count": 165,
   "metadata": {},
   "outputs": [
    {
     "data": {
      "image/png": "[encoded data removed]",
      "text/plain": [
       "<Figure size 640x480 with 2 Axes>"
      ]
     },
     "metadata": {},
     "output_type": "display_data"
    }
   ],
   "source": [
    "import matplotlib.pyplot as plt\n",
    "import numpy as np\n",
    "\n",
    "x_t = [1,2,3,4,5,6]\n",
    "\n",
    "p_x_t = 1/6\n",
    "\n",
    "fig, ax = plt.subplots(1,2)\n",
    "ax[0].bar(x_t, p_x_t)\n",
    "ax[0].spines['top'].set_color('none')\n",
    "ax[0].spines['right'].set_color('none')\n",
    "ax[0].set_title('f(t)')\n",
    "\n",
    "sum_probs = {sum: 0 for sum in range(2, 13)}\n",
    "for die1 in range(1, 7):\n",
    "    for die2 in range(1, 7):\n",
    "        sum_probs[die1 + die2] += 1\n",
    "\n",
    "# Normaliserer sannsynligheter\n",
    "total_outcomes = 6 * 6  # Totalt antall mulige utfall (6 for hver terning)\n",
    "for sum in sum_probs:\n",
    "    sum_probs[sum] /= total_outcomes\n",
    "\n",
    "# Plotter fordelingen\n",
    "utfall = list(sum_probs.keys())\n",
    "sannsynlighet = list(sum_probs.values())\n",
    "\n",
    "ax[1].spines['top'].set_color('none')\n",
    "ax[1].spines['right'].set_color('none')\n",
    "ax[1].bar(utfall, sannsynlighet, color='blue')\n",
    "ax[1].set_title('f(2t)');\n"
   ]
  },
  {
   "cell_type": "code",
   "execution_count": 166,
   "metadata": {},
   "outputs": [
    {
     "data": {
      "image/png": "[encoded data removed]",
      "text/plain": [
       "<Figure size 640x480 with 2 Axes>"
      ]
     },
     "metadata": {},
     "output_type": "display_data"
    }
   ],
   "source": [
    "kumulativ_sannsynlighet_x_t = [1/16,2/6,3/6,4/6,5/6,6/6]\n",
    "fig, ax = plt.subplots(1, 2)\n",
    "ax[0].bar(x_t,kumulativ_sannsynlighet_x_t)\n",
    "ax[0].spines['top'].set_color('none')\n",
    "ax[0].spines['right'].set_color('none')\n",
    "ax[0].set_title('F(t)')\n",
    "\n",
    "# Beregner sannsynligheter for hver mulig sum av to terninger\n",
    "sum_probs = {sum: 0 for sum in range(2, 13)}\n",
    "for die1 in range(1, 7):\n",
    "    for die2 in range(1, 7):\n",
    "        sum_probs[die1 + die2] += 1\n",
    "\n",
    "# Normaliserer sannsynligheter\n",
    "total_outcomes = 6 * 6  # Totalt antall mulige utfall (6 for hver terning)\n",
    "for sum in sum_probs:\n",
    "    sum_probs[sum] /= total_outcomes\n",
    "\n",
    "# Kumulative sannsynligheter\n",
    "cumulative_sums = np.cumsum(list(sum_probs.values()))\n",
    "\n",
    "# Plotter den kumulative fordelingen\n",
    "sums = list(sum_probs.keys())\n",
    "\n",
    "ax[1].bar(sums, cumulative_sums)\n",
    "ax[1].spines['top'].set_color('none')\n",
    "ax[1].spines['right'].set_color('none')\n",
    "ax[1].set_title('F(2t)');"
   ]
  },
  {
   "cell_type": "markdown",
   "metadata": {},
   "source": [
    "2. Kan du regne ut korrelasjon, kovarians, varians og standardavik for T og 2T?"
   ]
  },
  {
   "cell_type": "code",
   "execution_count": 167,
   "metadata": {},
   "outputs": [
    {
     "name": "stdout",
     "output_type": "stream",
     "text": [
      "Variansen til en terning t er:\n"
     ]
    },
    {
     "data": {
      "text/plain": [
       "2.9166666666666665"
      ]
     },
     "execution_count": 167,
     "metadata": {},
     "output_type": "execute_result"
    }
   ],
   "source": [
    "mean_t = (1+2+3+4+5+6)/6\n",
    "\n",
    "varians_t = 1/6*((1-3.5)**2+(2-3.5)**2+(3-3.5)**2+(4-3.5)**2+(5-3.5)**2+(6-3.5)**2)\n",
    "\n",
    "print(f'Variansen til en terning t er:')\n",
    "varians_t"
   ]
  },
  {
   "cell_type": "markdown",
   "metadata": {},
   "source": [
    "At variansen er 2,92 i konteksten av en terning betyr at den gjennomsnittlige kvadrerte avviket fra middelverdien (3,5 i dette tilfellet) av utfallene er 2,92. Variansen gir et matematisk mål på spredningen eller variabiliteten av utfallene rundt deres gjennomsnitt."
   ]
  },
  {
   "cell_type": "code",
   "execution_count": 168,
   "metadata": {},
   "outputs": [
    {
     "data": {
      "text/plain": [
       "5.833333333333334"
      ]
     },
     "execution_count": 168,
     "metadata": {},
     "output_type": "execute_result"
    }
   ],
   "source": [
    "mean_2t = 3.5 + 3.5\n",
    "\n",
    "varians_2t = 1/36*(2-7)**2+2/36*(3-7)**2+3/36*(4-7)**2+4/36*(5-7)**2+5/36*(6-7)**2+6/36*(7-7)**2+5/36*(8-7)**2+4/36*(9-7)**2+3/36*(10-7)**2+2/36*(11-7)**2+1/36*(12-7)**2\n",
    "\n",
    "varians_2t"
   ]
  },
  {
   "cell_type": "markdown",
   "metadata": {},
   "source": [
    "At variansen er 5,83 betyr at for 2T så er det gjennomsnittlige kvadrerte avviket fra gjennomsnittet (7 i dette tilfellet) av alle utfallene 5,83. Gir et mattematisk mål på spredningen. "
   ]
  },
  {
   "cell_type": "code",
   "execution_count": 169,
   "metadata": {},
   "outputs": [
    {
     "name": "stdout",
     "output_type": "stream",
     "text": [
      "Standard avviket til en terning T er lik:\n"
     ]
    },
    {
     "data": {
      "text/plain": [
       "1.707825127659933"
      ]
     },
     "execution_count": 169,
     "metadata": {},
     "output_type": "execute_result"
    }
   ],
   "source": [
    "import math\n",
    "\n",
    "print(f'Standard avviket til en terning T er lik:')\n",
    "std_avvik_t = math.sqrt(varians)\n",
    "std_avvik_t"
   ]
  },
  {
   "cell_type": "code",
   "execution_count": 170,
   "metadata": {},
   "outputs": [
    {
     "name": "stdout",
     "output_type": "stream",
     "text": [
      "Standard avviket til to terninger 2T er lik:\n"
     ]
    },
    {
     "data": {
      "text/plain": [
       "2.41522945769824"
      ]
     },
     "execution_count": 170,
     "metadata": {},
     "output_type": "execute_result"
    }
   ],
   "source": [
    "print(f'Standard avviket til to terninger 2T er lik:')\n",
    "std_avvik_2t = math.sqrt(varians_2t)\n",
    "std_avvik_2t"
   ]
  },
  {
   "cell_type": "code",
   "execution_count": 181,
   "metadata": {},
   "outputs": [
    {
     "name": "stdout",
     "output_type": "stream",
     "text": [
      "Kovarians er lik: \n"
     ]
    },
    {
     "data": {
      "text/plain": [
       "3.5"
      ]
     },
     "metadata": {},
     "output_type": "display_data"
    },
    {
     "name": "stdout",
     "output_type": "stream",
     "text": [
      "Korrelasjon er lik: \n"
     ]
    },
    {
     "data": {
      "text/plain": [
       "0.848528137423857"
      ]
     },
     "execution_count": 181,
     "metadata": {},
     "output_type": "execute_result"
    }
   ],
   "source": [
    "terning_t = np.array([1,2,3,4,5,6])\n",
    "\n",
    "terning_2t = np.array([7,8,9,10,11,12])\n",
    "\n",
    "cov_t_2t = np.sum((terning_t - mean_t) * (terning_2t - mean_2t)) / (len(terning_t) - 1)\n",
    "\n",
    "print(f'Kovarians er lik: ')\n",
    "display(cov_t_2t)\n",
    "\n",
    "korrelasjon = cov_t_2t/(std_avvik_t*std_avvik_2t)\n",
    "print(f'Korrelasjon er lik: ')\n",
    "korrelasjon"
   ]
  },
  {
   "cell_type": "markdown",
   "metadata": {},
   "source": [
    "3. Kan du lage en grafisk fremmstilling fra to utfallsrom til T til ett utfallsrom med 2T. Tips er å bruke piler.\n",
    "\n",
    "Dersom to hendelser A og B er uavhengige hendelser holder det at P(AB) = P(A)P(B). Les som og, altså settet av A og B."
   ]
  },
  {
   "cell_type": "code",
   "execution_count": 172,
   "metadata": {},
   "outputs": [
    {
     "data": {
      "text/markdown": [
       "\n",
       "|       | **1** | **2** | **3** | **4** | **5** | **6** |\n",
       "|-------|-------|-------|-------|-------|:-----:|-------|\n",
       "| **1** | 2     | 3     | 4     | 5     | 6     | 7     |\n",
       "| **2** | 3     | 4     | 5     | 6     | 7     | 8     |\n",
       "| **3** | 4     | 5     | 6     | 7     | 8     | 9     |\n",
       "| **4** | 5     | 6     | 7     | 8     | 9     | 10    |\n",
       "| **5** | 6     | 7     | 8     | 9     | 10    | 11    |\n",
       "| **6** | 7     | 8     | 9     | 10    | 11    | 12    |\n"
      ],
      "text/plain": [
       "<IPython.core.display.Markdown object>"
      ]
     },
     "metadata": {},
     "output_type": "display_data"
    }
   ],
   "source": [
    "from IPython.display import Markdown\n",
    "\n",
    "tbl=f\"\"\"\n",
    "|       | **1** | **2** | **3** | **4** | **5** | **6** |\n",
    "|-------|-------|-------|-------|-------|:-----:|-------|\n",
    "| **1** | 2     | 3     | 4     | 5     | 6     | 7     |\n",
    "| **2** | 3     | 4     | 5     | 6     | 7     | 8     |\n",
    "| **3** | 4     | 5     | 6     | 7     | 8     | 9     |\n",
    "| **4** | 5     | 6     | 7     | 8     | 9     | 10    |\n",
    "| **5** | 6     | 7     | 8     | 9     | 10    | 11    |\n",
    "| **6** | 7     | 8     | 9     | 10    | 11    | 12    |\n",
    "\"\"\"\n",
    "\n",
    "display(Markdown(tbl))"
   ]
  },
  {
   "cell_type": "markdown",
   "metadata": {},
   "source": [
    "4. For to terningkast, hva er sannsynligheten for å observere at to terninger er like, t1 = t2 definer dette som\n",
    "P(A)? Hva er sannsynligheten for å observere at summen er mellom 7 og 10 definer dette som P(B)? Hva er\n",
    "sannsynligheten for å observere at summen er 2, 7 eller 8 definer dette som P(C). Hva er sannsynligheten for at alle\n",
    "tre A B og C skal skje i.e P(A ∩ B ∩ C)? Hva er sannsynligheten for P(A ∩ B)? Kan du forklare hvorfor du får\n",
    "svarene?"
   ]
  },
  {
   "cell_type": "markdown",
   "metadata": {},
   "source": [
    "Sannsyligheten for at to kast er,$ T^1 = T^2 $. Vi kaller dette for $ P(A) $, da er $ P(A) = \\frac{1}{6} \\times \\frac{1}{6} = \\frac{1}{36} $. Sannsyligheten for å kaste to like terninger blir dermed $ P(A) = 2.7 $ %. \n",
    "\n",
    "For finne $ P(B) $ må vi først finne hvor mange utfall som gir mellom seks og ti prikker. 6 kombinasjoner gir 7 prikker, 5 kombinasjoner gir 8 prikker, 4 kombinasjoner 9 prikker og 3 kombinasjoner gir 10 prikker. Summen av disse er $ \\frac{6}{36} + \\frac{5}{36} + \\frac{4}{36}  + \\frac{3}{36} = \\frac{18}{36}. $ Sannsynligheten for at summen er mellom 7 og 10 eller $ P(B) = 50 $ %.\n",
    "\n",
    "Sannsynligheten for å observere 2,7 eller 8 kaller vi for $ P(C) $ og er $ \\frac{1}{36} + \\frac{6}{36} + \\frac{5}{36} = \\frac{12}{36} $. Sannsynligheten for å observere 2,7 eller 8, $ P(C) = 33 $ %.\n",
    "\n",
    "Sannsynlighet for $ P(A) \\times P(B) \\times P(C)  = \\frac{1}{6} \\times \\frac{1}{6} \\times  \\frac{6}{36} + \\frac{5}{36} + \\frac{4}{36}  + \\frac{3}{36}   \\times \\frac{1}{36} + \\frac{6}{36} + \\frac{5}{36} = 0.04 $ %. \n",
    "\n",
    "Sannsynlighet for $ P(A) \\times P(B) =  \\frac{1}{6} \\times \\frac{1}{6} \\times  \\frac{6}{36} + \\frac{5}{36} + \\frac{4}{36}  + \\frac{3}{36} =  1,3 $ %."
   ]
  }
 ],
 "metadata": {
  "kernelspec": {
   "display_name": "Python 3",
   "language": "python",
   "name": "python3"
  },
  "language_info": {
   "codemirror_mode": {
    "name": "ipython",
    "version": 3
   },
   "file_extension": ".py",
   "mimetype": "text/x-python",
   "name": "python",
   "nbconvert_exporter": "python",
   "pygments_lexer": "ipython3",
   "version": "3.11.5"
  }
 },
 "nbformat": 4,
 "nbformat_minor": 2
}
