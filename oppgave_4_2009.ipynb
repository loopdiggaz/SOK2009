{
 "cells": [
  {
   "cell_type": "markdown",
   "metadata": {},
   "source": [
    "<!-- Anta at du observer følgende tre data sett $ d_1 $ ∈ {1, 2, 4, 5} , $ d_2 $ ∈ {5, 6} , $ d_3 $ ∈ {6, 8, 4, 5} -->"
   ]
  },
  {
   "cell_type": "markdown",
   "metadata": {},
   "source": [
    "Anta at du observerer følgende tre data sett $ d^1_i $ ∈ {1, 2, 4, 5} , $ d^2_i $ ∈ {5, 6} , $ d^3_i $ ∈ {6,8,4,5} ."
   ]
  },
  {
   "cell_type": "markdown",
   "metadata": {},
   "source": [
    "1. Hvilke av datasettene har positiv sannsynlighet for å være generert av en seksidet terning og hvilke kan være fra\n",
    "to seksidede terninger? Forklar svaret ditt."
   ]
  },
  {
   "cell_type": "code",
   "execution_count": 35,
   "metadata": {},
   "outputs": [
    {
     "data": {
      "image/png": "[encoded data removed]",
      "text/plain": [
       "<Figure size 640x480 with 2 Axes>"
      ]
     },
     "metadata": {},
     "output_type": "display_data"
    }
   ],
   "source": [
    "import matplotlib.pyplot as plt\n",
    "import numpy as np\n",
    "\n",
    "x_t = [1,2,3,4,5,6]\n",
    "\n",
    "p_x_t = 1/6\n",
    "\n",
    "fig, ax = plt.subplots(1,2)\n",
    "ax[0].bar(x_t, p_x_t)\n",
    "ax[0].spines['top'].set_color('none')\n",
    "ax[0].spines['right'].set_color('none')\n",
    "ax[0].set_title('f(t)')\n",
    "\n",
    "sum_probs = {sum: 0 for sum in range(2, 13)}\n",
    "for die1 in range(1, 7):\n",
    "    for die2 in range(1, 7):\n",
    "        sum_probs[die1 + die2] += 1\n",
    "\n",
    "# Normaliserer sannsynligheter\n",
    "total_outcomes = 6 * 6  # Totalt antall mulige utfall (6 for hver terning)\n",
    "for sum in sum_probs:\n",
    "    sum_probs[sum] /= total_outcomes\n",
    "\n",
    "# Plotter fordelingen\n",
    "utfall = list(sum_probs.keys())\n",
    "sannsynlighet = list(sum_probs.values())\n",
    "\n",
    "ax[1].spines['top'].set_color('none')\n",
    "ax[1].spines['right'].set_color('none')\n",
    "ax[1].bar(utfall, sannsynlighet, color='blue')\n",
    "ax[1].set_title('f(2t)');\n",
    "\n"
   ]
  },
  {
   "cell_type": "markdown",
   "metadata": {},
   "source": [
    "En seksidet trening har en sannsynlighet på 0.166 for hvert utfall. Altså har hver side like stor sansynelighet. Det er en uniform sannsynlighetsfordeling.\n",
    "\n",
    "For to terninger er ikke sannsynligheten for hvert utfall likt. Vi ser at flest utfall gir 7, som er utfallet med høyest frekvens.\n",
    "\n",
    "$ d^1_i $ kan være generert av én seksidet terning ettersom at verdien 1 er observert i dette datasettet. Hadde det vært brukt to terninger ser vi over at den laveste mulige verdien ville vært 2. Ser vi på plottet med én terning så er det altså en mulighet å få verdi 1.\n",
    "\n",
    "$ d^2_i $ har en positiv sannsynlighet for å våre generert av én seksidet terning ettersom at sannsynligheten for å få tallene fra én terning er mye høyere enn fra to terninger. \n",
    "\n",
    "$ d^3_i $ har en positiv sannsynlighet for å være generert av to seksidete terninger ettersom at verdien 8 er observert. Det er ikke mulig å få 8 prikker ved kast av en terning. "
   ]
  },
  {
   "cell_type": "markdown",
   "metadata": {},
   "source": [
    "2. Regn ut gjennomsnitt $ d_i $ og standardaviket, $ SD_di $ for alle tre utvalgene i.e. j ∈ {1, 2, 3}."
   ]
  },
  {
   "cell_type": "code",
   "execution_count": 36,
   "metadata": {},
   "outputs": [
    {
     "data": {
      "text/plain": [
       "1.20761472884912"
      ]
     },
     "execution_count": 36,
     "metadata": {},
     "output_type": "execute_result"
    }
   ],
   "source": [
    "import math\n",
    "\n",
    "gjennomsnitt_d1 = (1+2+4+5)/4\n",
    "\n",
    "varians_d1 =  1/6*(1-3)**2+1/6*(2-3)**2+1/6*(4-3)**2+1/6*(6-3)**2\n",
    "\n",
    "math.sqrt(varians_d1)\n",
    "\n",
    "gjennomsnitt_d2 = (5+6)/2\n",
    "\n",
    "varians_d2 = 1/6*(5-5.5)**2+1/6*(6-5.5)**2\n",
    "\n",
    "math.sqrt(varians_d2)\n",
    "\n",
    "gjennomsnitt_d3 = (6+8+4+5)/4\n",
    "\n",
    "varians_d3 = 1/6*(6-5.75)**2+1/6*(8-5.75)**2+1/6*(4-5.75)**2+1/6*(5-5.75)**2\n",
    "\n",
    "math.sqrt(varians_d3)"
   ]
  },
  {
   "cell_type": "markdown",
   "metadata": {},
   "source": [
    "3. Regn ut forventning og standardaviket for antall prikker på en seksidet terning, T og summen av prikker på\n",
    "to seksidede terninger 2T."
   ]
  },
  {
   "cell_type": "code",
   "execution_count": 56,
   "metadata": {},
   "outputs": [
    {
     "name": "stdout",
     "output_type": "stream",
     "text": [
      "Forvetningsverdien til en terning er:\n"
     ]
    },
    {
     "data": {
      "text/plain": [
       "3.5"
      ]
     },
     "metadata": {},
     "output_type": "display_data"
    },
    {
     "name": "stdout",
     "output_type": "stream",
     "text": [
      "Variansen viser hvor mye ternignen varierer fra gjennomsnittet, og er:\n"
     ]
    },
    {
     "data": {
      "text/plain": [
       "2.9166666666666665"
      ]
     },
     "metadata": {},
     "output_type": "display_data"
    },
    {
     "name": "stdout",
     "output_type": "stream",
     "text": [
      "Standardavviket gir et mer intuvit mål på spredningen siden det er den samme måleenheten som en terning, og er:\n"
     ]
    },
    {
     "data": {
      "text/plain": [
       "1.707825127659933"
      ]
     },
     "execution_count": 56,
     "metadata": {},
     "output_type": "execute_result"
    }
   ],
   "source": [
    "forventning_terning = 1*1/6+2*1/6+3*1/6+4*1*1/6+5*1/6+6*1/6\n",
    "print(f'Forvetningsverdien til en terning er:')\n",
    "display(forventning_terning)\n",
    "\n",
    "varians_terning = ((1-3.5)**2+(2-3.5)**2+(3-3.5)**2+(4-3.5)**2+(5-3.5)**2+(6-3.5)**2)/6\n",
    "\n",
    "print(f'Variansen viser hvor mye ternignen varierer fra gjennomsnittet, og er:')\n",
    "display(varians_terning)\n",
    "\n",
    "standardavvik_terning = math.sqrt(varians_terning)\n",
    "\n",
    "print(f'Standardavviket gir et mer intuvit mål på spredningen siden det er den samme måleenheten som en terning, og er:') \n",
    "standardavvik_terning"
   ]
  },
  {
   "cell_type": "code",
   "execution_count": 72,
   "metadata": {},
   "outputs": [
    {
     "name": "stdout",
     "output_type": "stream",
     "text": [
      "Forvetningsverdien til en terning er:\n"
     ]
    },
    {
     "data": {
      "text/plain": [
       "7"
      ]
     },
     "metadata": {},
     "output_type": "display_data"
    },
    {
     "name": "stdout",
     "output_type": "stream",
     "text": [
      "Variansen viser hvor mye de to terningene varierer fra gjennomsnittet, og er:\n"
     ]
    },
    {
     "data": {
      "text/plain": [
       "5.833333333333334"
      ]
     },
     "metadata": {},
     "output_type": "display_data"
    },
    {
     "name": "stdout",
     "output_type": "stream",
     "text": [
      "Standardavviket gir et mer intuvit mål på spredningen siden det er den samme måleenheten som en terning, og er:\n"
     ]
    },
    {
     "data": {
      "text/plain": [
       "2.41522945769824"
      ]
     },
     "execution_count": 72,
     "metadata": {},
     "output_type": "execute_result"
    }
   ],
   "source": [
    "forventning_2t = 2*1/36+3*2/36+4*3/36+5*4/36+6*5/36+7*6/36+8*5/36+9*4/36+10*3/36+11*2/36+12*1/36\n",
    "print(f'Forvetningsverdien til en terning er:')\n",
    "display(round(forventning_2t))\n",
    "\n",
    "print(f'Variansen viser hvor mye de to terningene varierer fra gjennomsnittet, og er:')\n",
    "varians_2t = 1/36*(2-7)**2+2/36*(3-7)**2+3/36*(4-7)**2+4/36*(5-7)**2+5/36*(6-7)**2+6/36*(7-7)**2+5/36*(8-7)**2+4/36*(9-7)**2+3/36*(10-7)**2+2/36*(11-7)**2+1/36*(12-7)**2\n",
    "display(varians_2t)\n",
    "\n",
    "print(f'Standardavviket gir et mer intuvit mål på spredningen siden det er den samme måleenheten som en terning, og er:') \n",
    "standardavvik_terning_2t = math.sqrt(varians_2t)\n",
    "standardavvik_terning_2t\n"
   ]
  },
  {
   "cell_type": "markdown",
   "metadata": {},
   "source": [
    "4. Hva er forventningen til to terninger kastet to ganger i.e. 2 × E[2T] ? Hva er forventningen til en terning\n",
    "kastet to ganger 2 × E[T] ?"
   ]
  },
  {
   "cell_type": "code",
   "execution_count": 75,
   "metadata": {},
   "outputs": [
    {
     "name": "stdout",
     "output_type": "stream",
     "text": [
      "Forvetningen til to terninger kastet to ganger er 2 ganger E[2T] som blir:\n"
     ]
    },
    {
     "data": {
      "text/plain": [
       "14"
      ]
     },
     "metadata": {},
     "output_type": "display_data"
    },
    {
     "name": "stdout",
     "output_type": "stream",
     "text": [
      "Forvetningen til en terning kastet to ganger er 2 ganger E[T] som blir:\n"
     ]
    },
    {
     "data": {
      "text/plain": [
       "7.0"
      ]
     },
     "execution_count": 75,
     "metadata": {},
     "output_type": "execute_result"
    }
   ],
   "source": [
    "print(f'Forventningen til to terninger kastet to ganger er 2 ganger E[2T] som blir:')\n",
    "display(round(forventning_2t * 2))\n",
    "\n",
    "print(f'Forventingen til en terning kastet to ganger er 2 ganger E[T] som blir:')\n",
    "forventning_terning *2\n"
   ]
  },
  {
   "cell_type": "markdown",
   "metadata": {},
   "source": [
    "5. La oss si at du har en hypotese om at $ d^i_2 $ er generet av en terning (T). Hva er sannsynligheten for å obeservere $ d^2_i $ dersom data er generert av en terning? Hva er sannsynligheten for å observere $ d^2_i $ dersom data er generertav to terninger?\n",
    "\n",
    "$ d^2_i $ ∈ {5, 6}."
   ]
  },
  {
   "cell_type": "code",
   "execution_count": 86,
   "metadata": {},
   "outputs": [
    {
     "name": "stdout",
     "output_type": "stream",
     "text": [
      "Dette for en betinget sannsynlighet, og blir:\n"
     ]
    },
    {
     "data": {
      "text/plain": [
       "0.027777777777777776"
      ]
     },
     "metadata": {},
     "output_type": "display_data"
    },
    {
     "name": "stdout",
     "output_type": "stream",
     "text": [
      "Dette er en betinget sannsynlighet og blir:\n"
     ]
    },
    {
     "data": {
      "text/plain": [
       "0.0154320987654321"
      ]
     },
     "metadata": {},
     "output_type": "display_data"
    }
   ],
   "source": [
    "sannsynlighet_for_t = 1/6*1/6\n",
    "print(f'Dette for en betinget sannsynlighet, og blir:')\n",
    "display(sannsynlighet_for_t)\n",
    "\n",
    "sannsynlighet_for_2t = 4/36*5/36\n",
    "print(f'Dette er en betinget sannsynlighet og blir:')\n",
    "display(sannsynlighet_for_2t)"
   ]
  }
 ],
 "metadata": {
  "kernelspec": {
   "display_name": "Python 3",
   "language": "python",
   "name": "python3"
  },
  "language_info": {
   "codemirror_mode": {
    "name": "ipython",
    "version": 3
   },
   "file_extension": ".py",
   "mimetype": "text/x-python",
   "name": "python",
   "nbconvert_exporter": "python",
   "pygments_lexer": "ipython3",
   "version": "3.11.5"
  }
 },
 "nbformat": 4,
 "nbformat_minor": 2
}
