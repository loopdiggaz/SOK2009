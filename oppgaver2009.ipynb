{
 "cells": [
  {
   "cell_type": "markdown",
   "metadata": {},
   "source": [
    "Vi har en variabel X som har et utfallsrom x ∈ {1, 2, 3} der utfall har sannsynlighet p(X = x) = x/6 for alle utfall i utfallsrommet.\n",
    "\n",
    "1. Kan du tegne opp fordelingen til f(x) for verdiene i utfallsrommet ? Hva kaller vi denne fordelingen?"
   ]
  }
 ],
 "metadata": {
  "language_info": {
   "name": "python"
  },
  "orig_nbformat": 4
 },
 "nbformat": 4,
 "nbformat_minor": 2
}
