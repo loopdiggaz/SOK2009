{
 "cells": [
  {
   "cell_type": "markdown",
   "metadata": {},
   "source": [
    "Du får i oppgave å lage et spill til kasino, hver gang spillerene får et tall x på to terninger, i.e. $ T_2 = x $ tjener spilleren en bonus (B) på 10 000 kroner. "
   ]
  },
  {
   "cell_type": "markdown",
   "metadata": {},
   "source": [
    "1. En formel for forventet premie B om det bare er et utfall som gir premie er $ E[B]  = p(B)B; $ kan du sette denne formelen dersom to eller N utfall gir premie?"
   ]
  },
  {
   "cell_type": "markdown",
   "metadata": {},
   "source": [
    "Når det er flere enn ett utfall som gir premie, må vi summere de forventede premiene for hvert av disse utfallene. Anta at det er N utfall som gir premie, og at $ p_i $ er sannsynligheten for å få det i-te utfallet som gir premie. Da blir den forventede premien:\n",
    "\n",
    "Dette er formelen for forventning: $ E[B] = \\sum_{i=1}^{N} p_i B $, der bonusen B er lik 10 000 kroner. \n"
   ]
  },
  {
   "cell_type": "markdown",
   "metadata": {},
   "source": [
    "2. Hva er minste spillet kan koste samtidig som kasino ikke taper penger. (Kasinoet har en kjempe stor egenkapital\n",
    "og kan låne så mye de vil i banken)."
   ]
  },
  {
   "cell_type": "markdown",
   "metadata": {},
   "source": [
    "For at kasinoet ikke skal tape penger må den forventede gevinsten for kasinoet $ C $ være større eller lik forventet premie for spillerne $ E[B] $. Vi kan skrive kasinoets forventede gevinst som $ E[C] = D -  \\sum_{i=1}^{N} p_iB $. Hvor D er lik deltakerprisen, $ p_i $ er summen av forventede gevinster for å få det i-te utfallet som gir premie.  \n",
    "\n",
    "Vi kan lage et eksempel der et utfall som gir premie har sannsynligheten $ \\dfrac{1}{36} $. Da er minste spillet som kasinoet kan ta $ \\dfrac{1}{36} \\times 10 000 = 278 kr $.\n",
    "\n",
    " Vi kan bruke et annet eksempel der det er 5 utfall som gir premie og sannsynligheten er den samme. Da er minste spillet som kasinoet kan ta $ \\dfrac{1}{36}  \\times 5  \\times 10 000 = 1388 kr $"
   ]
  },
  {
   "cell_type": "markdown",
   "metadata": {},
   "source": [
    "3. Kan du sette opp en B for få et eller flere tall, en pris for deltakelse D for å spille slik at spillerene vinner med sannsynlighet: $ A. \\dfrac{1}{36} B. \\dfrac{2}{36}C. \\dfrac{1}{2}$.\n"
   ]
  },
  {
   "cell_type": "markdown",
   "metadata": {},
   "source": [
    "A. $  E[B] = 278 -  \\dfrac{1}{36} \\times 10 000 $.\n",
    "\n",
    "B. $ E[B] = 556 - \\dfrac{2}{36} \\times 10 000 $.\n",
    "\n",
    "C. $ E[B] = 5000 - \\dfrac{1}{2} \\times 10 000 $.\n",
    "\n",
    "For alle $ E[B] $ er forventet gevinst 0. "
   ]
  },
  {
   "cell_type": "markdown",
   "metadata": {},
   "source": [
    "4. En gruppe kunder har tapt mange penger og er lei seg. De klager og sier det er urettferdig at kasinoet\n",
    "ditt tar mer betalt for å spille en forventet utbetaling. Hvordan forklarer du dette til kundene?"
   ]
  },
  {
   "cell_type": "markdown",
   "metadata": {},
   "source": [
    "Jeg ville forklart at mens enkelte spillere kan oppleve tap på kort sikt, er spillet designet for å være rettferdige over tid. Det betyr at noen vil vinne, mens andre vil tape, men dette balanserer seg over en lengre periode.\n",
    "Påpeke at kasinospill ofte er ment for underholdning, og deltakerprisen bør betraktes som en pris for denne underholdningen, ikke ulikt billetter til en film eller en konsert."
   ]
  },
  {
   "cell_type": "markdown",
   "metadata": {},
   "source": [
    "4. 2 Eieren av kasinoet er lei seg fordi banken tar høyere rente av lånet hans en det banken betaler i innskudsrente. Hvordan forklarer du til eieren at banken må ta rente."
   ]
  },
  {
   "cell_type": "markdown",
   "metadata": {},
   "source": [
    "Banker tjener penger på denne margin, ved å låne ut kapital til en høyere rente enn de betaler på innskud. Dette gjør at de kan dekke driftskostnader og risiko. Bankene tar på seg risiko når de låner ut penger. Utlånsrenten refelekterer denne riskoen, inkludert sannsynligheten for mislighold (at låntakrene ikke betaler tilbake). "
   ]
  },
  {
   "cell_type": "markdown",
   "metadata": {},
   "source": [
    "En gruppe på 5 studenter i ∈ {1, 2, 3, 4, 5} går på kasino. Vi skriver poengsummen i statistikkfaget deres på\n",
    "skalaen $ p_i $ ∈ [1, 100] og gevinsten på kasino [−100, 100]. Data er som følger, $ [ s_i , p_i ] : [10, −50]_1, [78, −100]_2, [98, 100]_3, [60, 50]_4,[30, 25]_5 $.\n",
    "\n",
    "5. Kan du sett opp gjennomsnitt og median for $ p_i $ og $ s_i $. Er det noe type tall i utvalget? Sett også opp varians, standardavik for $ s_i\n",
    ", p_i $ og korrelasjon og kovarians mellom $ s_i, p_i $."
   ]
  },
  {
   "cell_type": "code",
   "execution_count": 28,
   "metadata": {},
   "outputs": [
    {
     "name": "stdout",
     "output_type": "stream",
     "text": [
      "Gjennomsnittet til p er:\n"
     ]
    },
    {
     "data": {
      "text/plain": [
       "6.25"
      ]
     },
     "metadata": {},
     "output_type": "display_data"
    },
    {
     "name": "stdout",
     "output_type": "stream",
     "text": [
      "Gjennomsnittet til s er:\n"
     ]
    },
    {
     "data": {
      "text/plain": [
       "55.2"
      ]
     },
     "metadata": {},
     "output_type": "display_data"
    },
    {
     "name": "stdout",
     "output_type": "stream",
     "text": [
      "Medianen eller midtverdien er:\n"
     ]
    },
    {
     "data": {
      "text/plain": [
       "25"
      ]
     },
     "metadata": {},
     "output_type": "display_data"
    },
    {
     "name": "stdout",
     "output_type": "stream",
     "text": [
      "Det er ikke noe typetall i dataen, positive og negative tall regnes som adskilte verdier.\n"
     ]
    }
   ],
   "source": [
    "gjennomsnitt_p = (-50 + (-100) + 100 + 50 + 25)/4\n",
    "\n",
    "print(f'Gjennomsnittet til p er:')\n",
    "display(gjennomsnitt_p)\n",
    "\n",
    "print(f'Gjennomsnittet til s er:')\n",
    "gjennomsnitt_s = (10+78+98+60+30)/5\n",
    "display(gjennomsnitt_s)\n",
    "\n",
    "stigende = [-100,-50,25,50,100] \n",
    "print(f'Medianen eller midtverdien er:')\n",
    "median = 25\n",
    "display(median)\n",
    "\n",
    "print(f'Det er ikke noe typetall i dataen, positive og negative tall regnes som adskilte verdier.')"
   ]
  },
  {
   "cell_type": "code",
   "execution_count": 41,
   "metadata": {},
   "outputs": [
    {
     "data": {
      "text/plain": [
       "5101.5625"
      ]
     },
     "metadata": {},
     "output_type": "display_data"
    },
    {
     "data": {
      "text/plain": [
       "71"
      ]
     },
     "metadata": {},
     "output_type": "display_data"
    },
    {
     "data": {
      "text/plain": [
       "1523.6045000000001"
      ]
     },
     "metadata": {},
     "output_type": "display_data"
    },
    {
     "data": {
      "text/plain": [
       "39.033376743499915"
      ]
     },
     "metadata": {},
     "output_type": "display_data"
    }
   ],
   "source": [
    "varians = 1/5*((-100-6.25)**2+(-50-6.25)**2+(25-6.25)**2+(50-6.25)**2+(100-6.25)**2)\n",
    "display(varians)\n",
    "\n",
    "import math\n",
    "\n",
    "std_avvik = math.sqrt(varians)\n",
    "\n",
    "display(round(std_avvik))\n",
    "\n",
    "varians_s = 1/5*((10-gjennomsnitt_s)**2+(70-gjennomsnitt_s)**2+(98-gjennomsnitt_s)**2+(60-gjennomsnitt_p)**2+(30-gjennomsnitt_s)**2)\n",
    "display(varians_s)\n",
    "\n",
    "std_avvik_s = math.sqrt(varians_s)\n",
    "display(std_avvik_s)\n"
   ]
  },
  {
   "cell_type": "code",
   "execution_count": 51,
   "metadata": {},
   "outputs": [
    {
     "data": {
      "text/plain": [
       "967.5"
      ]
     },
     "execution_count": 51,
     "metadata": {},
     "output_type": "execute_result"
    }
   ],
   "source": [
    "import numpy as np\n",
    "\n",
    "s = np.array([10,78,98,60,30])\n",
    "p = np.array([-50,-100,100,50,25])\n",
    "\n",
    "s_mean = np.mean(s)\n",
    "p_mean = np.mean(p)\n",
    "\n",
    "cov_sp = np.sum((s - s_mean) * (p - p_mean)) / (len(s) - 1)\n",
    "cov_sp"
   ]
  },
  {
   "cell_type": "code",
   "execution_count": 50,
   "metadata": {},
   "outputs": [
    {
     "data": {
      "text/plain": [
       "0.34702698297239004"
      ]
     },
     "execution_count": 50,
     "metadata": {},
     "output_type": "execute_result"
    }
   ],
   "source": [
    "korrelasjon = cov_sp/(std_avvik * std_avvik_s)\n",
    "korrelasjon"
   ]
  }
 ],
 "metadata": {
  "kernelspec": {
   "display_name": "Python 3",
   "language": "python",
   "name": "python3"
  },
  "language_info": {
   "codemirror_mode": {
    "name": "ipython",
    "version": 3
   },
   "file_extension": ".py",
   "mimetype": "text/x-python",
   "name": "python",
   "nbconvert_exporter": "python",
   "pygments_lexer": "ipython3",
   "version": "3.11.5"
  }
 },
 "nbformat": 4,
 "nbformat_minor": 2
}
