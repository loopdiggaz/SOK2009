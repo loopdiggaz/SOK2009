{
 "cells": [
  {
   "cell_type": "markdown",
   "metadata": {},
   "source": [
    "Du får i oppgave å lage et spill til kasino, hver gang spillerene får et tall x på to terninger, i.e. $ T_2 = x $ tjener spilleren en bonus (B) på 10 000 kroner. "
   ]
  },
  {
   "cell_type": "markdown",
   "metadata": {},
   "source": [
    "1. En formel for forventet premie B om det bare er et utfall som gir premie er $ E[B]  = p(B)B; $ kan du sette denne formelen dersom to eller N utfall gir premie?"
   ]
  },
  {
   "cell_type": "markdown",
   "metadata": {},
   "source": [
    "Dette er formelen for forventning: $ E[B] = B \\times \\sum_{i=1}^{N} p_i $, der bonusen B er lik 10 000 kroner. \n"
   ]
  },
  {
   "cell_type": "markdown",
   "metadata": {},
   "source": [
    "2. Hva er minste spillet kan koste samtidig som kasino ikke taper penger. (Kasinoet har en kjempe stor egenkapital\n",
    "og kan låne så mye de vil i banken)."
   ]
  },
  {
   "cell_type": "markdown",
   "metadata": {},
   "source": [
    "For at kasinoet ikke skal tape penger må kostaden $ C $ være mindre eller lik forventet premie $ E[B] $,  $C≥E[B]$. Dette betyr at $ C ≥ E[B] = B \\times \\sum_{i=1}^{N} p_i $. Vi kan bruke et eksempel, dersom det er 5 utfall som gir premie og sannsynligheten er 1/100 så vil den forventede premien være : $$ 10 000 \\times 5  \\times \\dfrac{1}{100}=  \\dfrac{50 000}{100} = 500 $$\n",
    "\n",
    "Minste spillet som kasinoet kan ha i dette eksemplet vil altså være 500 kroner, da er det 5 mulige utfall som gir premie, med en sannsynlighet på 1/100."
   ]
  },
  {
   "cell_type": "markdown",
   "metadata": {},
   "source": [
    "3. Kan du sette opp en B for få et eller flere tall, en pris for deltakelse D for å spille slik at spillerene vinner med sannsynlighet: $ A. \\dfrac{1}{36} B. \\dfrac{2}{36}C. \\dfrac{1}{2}$.\n"
   ]
  },
  {
   "cell_type": "markdown",
   "metadata": {},
   "source": [
    "$$ 10 000 \\times 5  \\times \\dfrac{1}{36}=  \\dfrac{50 000}{36} = 1 388.88 $$\n",
    "\n",
    "$$ 10 000 \\times 5  \\times \\dfrac{2}{36}=  \\dfrac{50 000}{36} = 2 777.77 $$\n",
    "\n",
    "$$ 10 000 \\times 5  \\times \\dfrac{1}{2}=  \\dfrac{50 000}{2} = 25 000 $$"
   ]
  },
  {
   "cell_type": "markdown",
   "metadata": {},
   "source": [
    "4. En gruppe kunder har tapt mange penger og er lei seg. De klager og sier det er urettferdig at kasinoet\n",
    "ditt tar mer betalt for å spille en forventet utbetaling. Hvordan forklarer du dette til kundene?"
   ]
  },
  {
   "cell_type": "markdown",
   "metadata": {},
   "source": []
  },
  {
   "cell_type": "code",
   "execution_count": null,
   "metadata": {},
   "outputs": [],
   "source": []
  }
 ],
 "metadata": {
  "language_info": {
   "name": "python"
  }
 },
 "nbformat": 4,
 "nbformat_minor": 2
}
