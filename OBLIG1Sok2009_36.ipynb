{
 "cells": [
  {
   "cell_type": "markdown",
   "metadata": {},
   "source": [
    "### Obligatorisk oppgave SOK-2009\n",
    "\n",
    "#### Kanditat: 36"
   ]
  },
  {
   "cell_type": "code",
   "execution_count": 1,
   "metadata": {},
   "outputs": [],
   "source": [
    "import numpy as np\n",
    "import matplotlib.pyplot as plt"
   ]
  },
  {
   "cell_type": "markdown",
   "metadata": {},
   "source": [
    "#### Oppgave 1\n",
    "\n",
    "*Bruk definisjon til å finne forventingen av en variabel T som er lik antall prikker på en seks-sidet terning t ∈ $ \\{1...6\\} $ der alle utfall har samme sannsynlighet  $ p(X=x) = \\dfrac{1}{6}$. Vi skriver dette, E[T]. Hva er sannsynligheten for å få den forventende veriden? Forklar svaret ditt?*\n",
    "\n",
    "$ E(T) = 1 *  \\dfrac{1}{6} + 2 * \\dfrac{1}{6} + 3 *  \\dfrac{1}{6} + 4 * \\dfrac{1}{6} + 5 * \\dfrac{1}{6} + 6 * \\dfrac{1}{6} = 3,5 $  \n",
    "\n",
    "Forventningsverdien til terningen $ E[T] = 3,5 $\n",
    "\n",
    " $ p(t = 3,5) = 0 $ \n",
    "\n",
    " Ingen utfall på terningen har 3,5 prikker. Forventningen er et teoretisk gjennomsnitt, det vil si at at dersom man gjentok forsøket i det uendelige vil forventet verdi (gjennomsnittet) tendere mot 3.5.\n",
    "\n",
    " #### Oppgave 2 \n",
    "\n",
    " *Finn forventingen til summen av to seksidede terninger $ 2T,E[2T] $. Hva er forskjellen mellom sannsynligheten $ p(2T = t) $ og $ p(T=t) $?*\n",
    "\n",
    " $ E[2T] = {\\sum }^{12}_{t=2}p(2T = t)t $ = $ 2 * \\dfrac{1}{36} + 3 * \\dfrac{2}{36} + 4 * \\dfrac{3}{36} + 5 * \\dfrac{4}{36} .... + 12 *\\dfrac{1}{36} = 7 $. \n",
    "\n",
    " Fordelingen er den viktigste forskjellen mellom de to sannsynlighetene. T er en diskret uniform fordeling. En uniform sannsynlighet betyr at alle utfallene er like sannsynlige. 2T er også en diskret sannsynlighetsfordeling, men den er ikke uniform. Det betyr at ikke alle utfallene er like sannsynlige. For 2T er sannsynligheten for syv prikker større enn sannsynligheten for to prikker, da seks utfall gir syv prikker mens kun et utfall gir to prikker. For min egen skyld har jeg laget en funksjon for 2 terninger og kastet den 100 000 ganger. Observerer en fordeling rundt forventningsverdien 7. "
   ]
  },
  {
   "cell_type": "code",
   "execution_count": 14,
   "metadata": {},
   "outputs": [
    {
     "data": {
      "image/png": "[encoded data removed]",
      "text/plain": [
       "<Figure size 640x480 with 1 Axes>"
      ]
     },
     "metadata": {},
     "output_type": "display_data"
    }
   ],
   "source": [
    "# Lager en funksjon for terning: \n",
    "\n",
    "def dice(n):\n",
    "    rolls = []\n",
    "    for i in range(n):\n",
    "        two_dice = ( np.random.randint(1, 7) + np.random.randint(1, 7) )\n",
    "        rolls.append(two_dice)\n",
    "    return rolls\n",
    "\n",
    "# Sannsynlighetsfordeling for to terninger\n",
    "\n",
    "kast = dice(100000) # Antall kast  \n",
    "# print(data)\n",
    "bins = np.arange(14) - 0.5 \n",
    "plt.hist(kast, bins, rwidth= 0.5)\n",
    "plt.title(\"2 Terninger histogram\")\n",
    "plt.xlabel(\"Sum av 2 terninger\")\n",
    "plt.ylabel(\"Frekvens\")\n",
    "plt.xticks(range(1,14))\n",
    "# Set axes limit\n",
    "plt.xlim(1,13);"
   ]
  },
  {
   "cell_type": "markdown",
   "metadata": {},
   "source": [
    "Dette kan ligne en normalfordeling, men det er noen viktige forskjeller. I en normalfordeling er sannsynlighetstettheten ikke-lineær og følger en eksponentiell funksjon. I en normalfordeling strekker fordelingen seg teoretisk i det uendelige i begge retninger, selv om sannsynligheten blir svært lav i de ekstreme halene."
   ]
  },
  {
   "cell_type": "markdown",
   "metadata": {},
   "source": [
    "#### Oppgave 3 \n",
    "\n",
    "*Hva er utfallsrommet for 2T og for antall prikker på to separate terninger T,T?*\n",
    "\n",
    "For 2T er det 36 mulige utfall. Utfallsrommet for 2T:"
   ]
  },
  {
   "cell_type": "code",
   "execution_count": 2,
   "metadata": {},
   "outputs": [
    {
     "data": {
      "text/markdown": [
       "\n",
       "|       | **1** | **2** | **3** | **4** | **5** | **6** |\n",
       "|-------|-------|-------|-------|-------|:-----:|-------|\n",
       "| **1** | 2     | 3     | 4     | 5     | 6     | 7     |\n",
       "| **2** | 3     | 4     | 5     | 6     | 7     | 8     |\n",
       "| **3** | 4     | 5     | 6     | 7     | 8     | 9     |\n",
       "| **4** | 5     | 6     | 7     | 8     | 9     | 10    |\n",
       "| **5** | 6     | 7     | 8     | 9     | 10    | 11    |\n",
       "| **6** | 7     | 8     | 9     | 10    | 11    | 12    |\n"
      ],
      "text/plain": [
       "<IPython.core.display.Markdown object>"
      ]
     },
     "metadata": {},
     "output_type": "display_data"
    }
   ],
   "source": [
    "from IPython.display import Markdown\n",
    "\n",
    "tbl=f\"\"\"\n",
    "|       | **1** | **2** | **3** | **4** | **5** | **6** |\n",
    "|-------|-------|-------|-------|-------|:-----:|-------|\n",
    "| **1** | 2     | 3     | 4     | 5     | 6     | 7     |\n",
    "| **2** | 3     | 4     | 5     | 6     | 7     | 8     |\n",
    "| **3** | 4     | 5     | 6     | 7     | 8     | 9     |\n",
    "| **4** | 5     | 6     | 7     | 8     | 9     | 10    |\n",
    "| **5** | 6     | 7     | 8     | 9     | 10    | 11    |\n",
    "| **6** | 7     | 8     | 9     | 10    | 11    | 12    |\n",
    "\"\"\"\n",
    "\n",
    "display(Markdown(tbl))"
   ]
  },
  {
   "cell_type": "markdown",
   "metadata": {},
   "source": [
    "\n",
    "Dersom vi ser på terningene helt separate er det seks mulige utfall på hver enkelt terning. \n",
    "\n",
    "Utfallsrommet på to terninger uten å legge de sammen: t,t $ = \\{1,2,3,5,6\\} $  "
   ]
  },
  {
   "cell_type": "markdown",
   "metadata": {},
   "source": [
    " #### Oppgave 4 \n",
    "\n",
    "*Hva er $ f(5) $ for en eller to terninger? Hva er $ f(3) $ for en eller to terninger?*\n",
    "\n",
    "For en terning t: \n",
    "\n",
    "$ f(3) = P(x ≤ 3) = P(x = 1) + P(x = 2) + P(x = 3) = \\dfrac{1}{6} + \\dfrac{1}{6} + \\dfrac{1}{6}  = \\dfrac{3}{6} = \\dfrac{1}{2} $\n",
    "\n",
    "$ f(5) = P(x ≤ 5) = P(x = 1) + P(x = 2) .... + P(x = 5)= \\dfrac{1}{6} + \\dfrac{1}{6} + \\dfrac{1}{6} + \\dfrac{1}{6} + \\dfrac{1}{6} = \\dfrac{5}{6}\n",
    "$\n",
    "\n",
    "For 2 terninger 2T: \n",
    "\n",
    "$ f(3) = P(x ≤ 3) =  P(x = 2) + P(x = 3) = \\dfrac{1}{36} + \\dfrac{2}{36} = \\dfrac{3}{36} $\n",
    "\n",
    "$ f(5) = P(x ≤ 5) = P(x = 1) + P(x = 2) + P(x = 3) + P(x = 4) + P(x = 5) = \\dfrac{1}{36} + \\dfrac{2}{36} + \\dfrac{3}{36} + \\dfrac{4}{36}  = \\dfrac{1+2+3+4}{36} = \\dfrac{5}{18} $\n",
    "\n",
    "#### Oppgave 5\n",
    "\n",
    "*Anta at en terning har N > 3 sider med* $\\{1, 2, 3..t..,(N − 1), N \\} $ *prikker på hver side. Hva er sannsynligheten for å få t prikker? Kan du skrive et uttrykk for forventet antall prikker?*\n",
    "\n",
    "Kaller antall måter å få t på = $ nt $, da kan jeg skrive: $ P(t) = \\dfrac{\\text{antall måter å få t på}}{\\text{totalt antall utfall}} = \\dfrac{nt}{N} $\n",
    "\n",
    "For å finne forventningen $ E[t] $, bruker jeg $ \\dfrac{1}{N} $ -> $ E[t] = {\\sum}^{N}_{i=1} p_i \\times \\dfrac{1}{N} $\n",
    "\n",
    "#### Oppgave 6 \n",
    "\n",
    "*Kan du finne sannsynligheten for at antall prikker på 2 terninger ligger over 2 eller under 12, det vil si $ P(3 ≤ 2T ≤ 11) = F(11) − F(3) $*\n",
    "\n",
    "$ P(T_2 < 12) = P(T_2 = 11) + P(T_2 = 10) .... + P(T_2 = 2) = \\dfrac{2}{36} + \\dfrac{3}{36} + \\dfrac{4}{36} + \\dfrac{5}{36} + \\dfrac{6}{36} + \\dfrac{5}{36} + \\dfrac{4}{36} + \\dfrac{3}{36} + \\dfrac{2}{36} + \\dfrac{1}{36} = \\dfrac{35}{36} $\n",
    "\n",
    "$ P(T_2 < 3) =  P(T_2 = 2) =  \\dfrac{1}{36} $\n",
    "\n",
    "$ P(3 ≤ 2T ≤ 11) = \\dfrac{35}{36} - \\dfrac{1}{36} = \\dfrac{34}{36} $\n",
    " \n",
    "Sannsynligheten for at antall prikker på 2 terninger ligger over 2 eller under 12 er 94 %."
   ]
  }
 ],
 "metadata": {
  "kernelspec": {
   "display_name": "Python 3",
   "language": "python",
   "name": "python3"
  },
  "language_info": {
   "codemirror_mode": {
    "name": "ipython",
    "version": 3
   },
   "file_extension": ".py",
   "mimetype": "text/x-python",
   "name": "python",
   "nbconvert_exporter": "python",
   "pygments_lexer": "ipython3",
   "version": "3.11.5"
  },
  "orig_nbformat": 4
 },
 "nbformat": 4,
 "nbformat_minor": 2
}
